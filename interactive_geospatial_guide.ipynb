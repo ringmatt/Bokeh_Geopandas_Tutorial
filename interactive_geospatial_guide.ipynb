{
 "cells": [
  {
   "cell_type": "markdown",
   "id": "c03f5874-b1df-4c84-af1e-065542476c10",
   "metadata": {
    "tags": []
   },
   "source": [
    "# Interactive Geospatial Guide\n",
    "\n",
    "Purpose: Create interactive, geospatial visualizations with minimal python knowledge and packages."
   ]
  },
  {
   "cell_type": "markdown",
   "id": "53fd323e-1c6d-45fd-ac56-f1357a66949c",
   "metadata": {},
   "source": [
    "# 1. Install Packages\n",
    "\n",
    "If you're working on Anaconda, you'll only need to install geopandas."
   ]
  },
  {
   "cell_type": "code",
   "execution_count": null,
   "id": "f3841ea9-3b03-44ba-bdc2-ee499f2b11fd",
   "metadata": {},
   "outputs": [],
   "source": [
    "## Anaconda installs\n",
    "\n",
    "# Installs geopandas\n",
    "!conda install geopandas\n",
    "\n",
    "# Updates all other packages\n",
    "!conda update --all"
   ]
  },
  {
   "cell_type": "markdown",
   "id": "7045adc7-0295-40fc-abb6-f20ddfc61934",
   "metadata": {},
   "source": [
    "If you're not working on Anaconda, you'll likely need a few more packages."
   ]
  },
  {
   "cell_type": "code",
   "execution_count": null,
   "id": "7bedf525-072c-4bb4-8872-6d2d3a3c5d81",
   "metadata": {},
   "outputs": [],
   "source": [
    "## Anaconda installs\n",
    "\n",
    "# Installs geopandas\n",
    "!pip install geopandas\n",
    "!pip install bokeh\n",
    "!pip install pandas\n",
    "!pip install matplotlib\n",
    "\n",
    "\n",
    "# Updates all other packages\n",
    "!conda update --all"
   ]
  },
  {
   "cell_type": "markdown",
   "id": "de3656b2-ab79-4792-b082-1fa33e55bf36",
   "metadata": {
    "tags": []
   },
   "source": [
    "# 2. Loading Data & Packages\n",
    "\n",
    "Packages: pandas, matplotlib, geopandas, json, bokeh\n",
    "\n",
    "Data: County-level statistics for the DC, Maryland, and Virginia Area."
   ]
  },
  {
   "cell_type": "code",
   "execution_count": 4,
   "id": "923d63e4-1f7d-4384-8262-c3cf28585c5b",
   "metadata": {},
   "outputs": [],
   "source": [
    "## Package imports\n",
    "\n",
    "# For handling data generally\n",
    "import pandas as pd\n",
    "\n",
    "# Base plotting package\n",
    "import matplotlib.pyplot as plt\n",
    "%matplotlib inline\n",
    "\n",
    "# For importing shapefiles\n",
    "import geopandas as gpd\n",
    "\n",
    "# For converting dataframes to json files\n",
    "import json\n",
    "\n",
    "# For visualizing geospatial data\n",
    "import bokeh"
   ]
  },
  {
   "cell_type": "markdown",
   "id": "8342c027-8c7f-46c8-8cc1-f52a5e6f7dbb",
   "metadata": {},
   "source": [
    "All data used in this guide can be obtained via public sources."
   ]
  },
  {
   "cell_type": "code",
   "execution_count": 34,
   "id": "dcff2fce-f14e-454f-a81e-d9887c7e55c4",
   "metadata": {},
   "outputs": [
    {
     "data": {
      "text/html": [
       "<div>\n",
       "<style scoped>\n",
       "    .dataframe tbody tr th:only-of-type {\n",
       "        vertical-align: middle;\n",
       "    }\n",
       "\n",
       "    .dataframe tbody tr th {\n",
       "        vertical-align: top;\n",
       "    }\n",
       "\n",
       "    .dataframe thead th {\n",
       "        text-align: right;\n",
       "    }\n",
       "</style>\n",
       "<table border=\"1\" class=\"dataframe\">\n",
       "  <thead>\n",
       "    <tr style=\"text-align: right;\">\n",
       "      <th></th>\n",
       "      <th>GEOID</th>\n",
       "      <th>year</th>\n",
       "      <th>units</th>\n",
       "      <th>units_sf</th>\n",
       "      <th>units_2_4</th>\n",
       "      <th>units_mf</th>\n",
       "      <th>name</th>\n",
       "      <th>state</th>\n",
       "      <th>land_area</th>\n",
       "      <th>inequality_index</th>\n",
       "      <th>...</th>\n",
       "      <th>private_hospitals</th>\n",
       "      <th>non_profit_hospitals</th>\n",
       "      <th>tribal_hospitals</th>\n",
       "      <th>exp_homelessness</th>\n",
       "      <th>votes_dem_percent</th>\n",
       "      <th>votes_rep_percent</th>\n",
       "      <th>votes_green_percent</th>\n",
       "      <th>votes_lib_percent</th>\n",
       "      <th>votes_other_percent</th>\n",
       "      <th>rural_level</th>\n",
       "    </tr>\n",
       "  </thead>\n",
       "  <tbody>\n",
       "    <tr>\n",
       "      <th>9315</th>\n",
       "      <td>11001</td>\n",
       "      <td>1990</td>\n",
       "      <td>368</td>\n",
       "      <td>180</td>\n",
       "      <td>180</td>\n",
       "      <td>162</td>\n",
       "      <td>Washington</td>\n",
       "      <td>DC</td>\n",
       "      <td>NaN</td>\n",
       "      <td>NaN</td>\n",
       "      <td>...</td>\n",
       "      <td>NaN</td>\n",
       "      <td>NaN</td>\n",
       "      <td>NaN</td>\n",
       "      <td>NaN</td>\n",
       "      <td>NaN</td>\n",
       "      <td>NaN</td>\n",
       "      <td>NaN</td>\n",
       "      <td>NaN</td>\n",
       "      <td>NaN</td>\n",
       "      <td>1.0</td>\n",
       "    </tr>\n",
       "    <tr>\n",
       "      <th>9316</th>\n",
       "      <td>11001</td>\n",
       "      <td>1991</td>\n",
       "      <td>333</td>\n",
       "      <td>83</td>\n",
       "      <td>83</td>\n",
       "      <td>236</td>\n",
       "      <td>Washington</td>\n",
       "      <td>DC</td>\n",
       "      <td>NaN</td>\n",
       "      <td>NaN</td>\n",
       "      <td>...</td>\n",
       "      <td>NaN</td>\n",
       "      <td>NaN</td>\n",
       "      <td>NaN</td>\n",
       "      <td>NaN</td>\n",
       "      <td>NaN</td>\n",
       "      <td>NaN</td>\n",
       "      <td>NaN</td>\n",
       "      <td>NaN</td>\n",
       "      <td>NaN</td>\n",
       "      <td>NaN</td>\n",
       "    </tr>\n",
       "    <tr>\n",
       "      <th>9317</th>\n",
       "      <td>11001</td>\n",
       "      <td>1992</td>\n",
       "      <td>132</td>\n",
       "      <td>92</td>\n",
       "      <td>92</td>\n",
       "      <td>26</td>\n",
       "      <td>Washington</td>\n",
       "      <td>DC</td>\n",
       "      <td>NaN</td>\n",
       "      <td>NaN</td>\n",
       "      <td>...</td>\n",
       "      <td>NaN</td>\n",
       "      <td>NaN</td>\n",
       "      <td>NaN</td>\n",
       "      <td>NaN</td>\n",
       "      <td>NaN</td>\n",
       "      <td>NaN</td>\n",
       "      <td>NaN</td>\n",
       "      <td>NaN</td>\n",
       "      <td>NaN</td>\n",
       "      <td>NaN</td>\n",
       "    </tr>\n",
       "    <tr>\n",
       "      <th>9318</th>\n",
       "      <td>11001</td>\n",
       "      <td>1993</td>\n",
       "      <td>305</td>\n",
       "      <td>99</td>\n",
       "      <td>142</td>\n",
       "      <td>163</td>\n",
       "      <td>Washington</td>\n",
       "      <td>DC</td>\n",
       "      <td>NaN</td>\n",
       "      <td>NaN</td>\n",
       "      <td>...</td>\n",
       "      <td>NaN</td>\n",
       "      <td>NaN</td>\n",
       "      <td>NaN</td>\n",
       "      <td>NaN</td>\n",
       "      <td>NaN</td>\n",
       "      <td>NaN</td>\n",
       "      <td>NaN</td>\n",
       "      <td>NaN</td>\n",
       "      <td>NaN</td>\n",
       "      <td>NaN</td>\n",
       "    </tr>\n",
       "    <tr>\n",
       "      <th>9319</th>\n",
       "      <td>11001</td>\n",
       "      <td>1994</td>\n",
       "      <td>210</td>\n",
       "      <td>96</td>\n",
       "      <td>96</td>\n",
       "      <td>114</td>\n",
       "      <td>Washington</td>\n",
       "      <td>DC</td>\n",
       "      <td>NaN</td>\n",
       "      <td>NaN</td>\n",
       "      <td>...</td>\n",
       "      <td>NaN</td>\n",
       "      <td>NaN</td>\n",
       "      <td>NaN</td>\n",
       "      <td>NaN</td>\n",
       "      <td>NaN</td>\n",
       "      <td>NaN</td>\n",
       "      <td>NaN</td>\n",
       "      <td>NaN</td>\n",
       "      <td>NaN</td>\n",
       "      <td>NaN</td>\n",
       "    </tr>\n",
       "  </tbody>\n",
       "</table>\n",
       "<p>5 rows × 54 columns</p>\n",
       "</div>"
      ],
      "text/plain": [
       "      GEOID  year  units  units_sf  units_2_4  units_mf        name state  \\\n",
       "9315  11001  1990    368       180        180       162  Washington    DC   \n",
       "9316  11001  1991    333        83         83       236  Washington    DC   \n",
       "9317  11001  1992    132        92         92        26  Washington    DC   \n",
       "9318  11001  1993    305        99        142       163  Washington    DC   \n",
       "9319  11001  1994    210        96         96       114  Washington    DC   \n",
       "\n",
       "      land_area  inequality_index  ...  private_hospitals  \\\n",
       "9315        NaN               NaN  ...                NaN   \n",
       "9316        NaN               NaN  ...                NaN   \n",
       "9317        NaN               NaN  ...                NaN   \n",
       "9318        NaN               NaN  ...                NaN   \n",
       "9319        NaN               NaN  ...                NaN   \n",
       "\n",
       "      non_profit_hospitals  tribal_hospitals  exp_homelessness  \\\n",
       "9315                   NaN               NaN               NaN   \n",
       "9316                   NaN               NaN               NaN   \n",
       "9317                   NaN               NaN               NaN   \n",
       "9318                   NaN               NaN               NaN   \n",
       "9319                   NaN               NaN               NaN   \n",
       "\n",
       "      votes_dem_percent  votes_rep_percent  votes_green_percent  \\\n",
       "9315                NaN                NaN                  NaN   \n",
       "9316                NaN                NaN                  NaN   \n",
       "9317                NaN                NaN                  NaN   \n",
       "9318                NaN                NaN                  NaN   \n",
       "9319                NaN                NaN                  NaN   \n",
       "\n",
       "      votes_lib_percent  votes_other_percent  rural_level  \n",
       "9315                NaN                  NaN          1.0  \n",
       "9316                NaN                  NaN          NaN  \n",
       "9317                NaN                  NaN          NaN  \n",
       "9318                NaN                  NaN          NaN  \n",
       "9319                NaN                  NaN          NaN  \n",
       "\n",
       "[5 rows x 54 columns]"
      ]
     },
     "execution_count": 34,
     "metadata": {},
     "output_type": "execute_result"
    }
   ],
   "source": [
    "## Data imports\n",
    "\n",
    "# Read in the federal data\n",
    "data = pd.read_csv(\"data/federal_data.csv\", index_col = 0)\n",
    "data.head()"
   ]
  },
  {
   "cell_type": "markdown",
   "id": "59ef1bce-602e-43e0-a06d-e07ed468fdef",
   "metadata": {},
   "source": [
    "These data contain a variety of features extracted from a range of US federal agencies. A codebook for the features can be found in the data zipfile. For this tutorial, we will be using the Census's inequality index."
   ]
  },
  {
   "cell_type": "code",
   "execution_count": 35,
   "id": "0445186d-9742-49a8-9ec9-235e039ee8dc",
   "metadata": {},
   "outputs": [],
   "source": [
    "# Subset data to only GEOID, year, and inequality index and save as a new dataset\n",
    "df = data[[\"GEOID\", \"year\", \"inequality_index\"]]"
   ]
  },
  {
   "cell_type": "code",
   "execution_count": 36,
   "id": "dbf480a0-93d3-4ebf-a00f-ef2fde82e5f1",
   "metadata": {},
   "outputs": [],
   "source": [
    "# Remove rows missing inequality index\n",
    "df = df.loc[~df[\"inequality_index\"].isna()]"
   ]
  },
  {
   "cell_type": "markdown",
   "id": "92b0c54d-99a5-4498-a3ea-3771a22c1812",
   "metadata": {},
   "source": [
    "Now we'll import the county shapefiles!"
   ]
  },
  {
   "cell_type": "code",
   "execution_count": 8,
   "id": "17fc16be-cc8c-49aa-a2b6-0990e178358a",
   "metadata": {},
   "outputs": [
    {
     "data": {
      "text/html": [
       "<div>\n",
       "<style scoped>\n",
       "    .dataframe tbody tr th:only-of-type {\n",
       "        vertical-align: middle;\n",
       "    }\n",
       "\n",
       "    .dataframe tbody tr th {\n",
       "        vertical-align: top;\n",
       "    }\n",
       "\n",
       "    .dataframe thead th {\n",
       "        text-align: right;\n",
       "    }\n",
       "</style>\n",
       "<table border=\"1\" class=\"dataframe\">\n",
       "  <thead>\n",
       "    <tr style=\"text-align: right;\">\n",
       "      <th></th>\n",
       "      <th>STATEFP</th>\n",
       "      <th>COUNTYFP</th>\n",
       "      <th>COUNTYNS</th>\n",
       "      <th>AFFGEOID</th>\n",
       "      <th>GEOID</th>\n",
       "      <th>NAME</th>\n",
       "      <th>LSAD</th>\n",
       "      <th>ALAND</th>\n",
       "      <th>AWATER</th>\n",
       "      <th>geometry</th>\n",
       "    </tr>\n",
       "  </thead>\n",
       "  <tbody>\n",
       "    <tr>\n",
       "      <th>0</th>\n",
       "      <td>21</td>\n",
       "      <td>007</td>\n",
       "      <td>00516850</td>\n",
       "      <td>0500000US21007</td>\n",
       "      <td>21007</td>\n",
       "      <td>Ballard</td>\n",
       "      <td>06</td>\n",
       "      <td>639387454</td>\n",
       "      <td>69473325</td>\n",
       "      <td>POLYGON ((-89.18137 37.04630, -89.17938 37.053...</td>\n",
       "    </tr>\n",
       "    <tr>\n",
       "      <th>1</th>\n",
       "      <td>21</td>\n",
       "      <td>017</td>\n",
       "      <td>00516855</td>\n",
       "      <td>0500000US21017</td>\n",
       "      <td>21017</td>\n",
       "      <td>Bourbon</td>\n",
       "      <td>06</td>\n",
       "      <td>750439351</td>\n",
       "      <td>4829777</td>\n",
       "      <td>POLYGON ((-84.44266 38.28324, -84.44114 38.283...</td>\n",
       "    </tr>\n",
       "    <tr>\n",
       "      <th>2</th>\n",
       "      <td>21</td>\n",
       "      <td>031</td>\n",
       "      <td>00516862</td>\n",
       "      <td>0500000US21031</td>\n",
       "      <td>21031</td>\n",
       "      <td>Butler</td>\n",
       "      <td>06</td>\n",
       "      <td>1103571974</td>\n",
       "      <td>13943044</td>\n",
       "      <td>POLYGON ((-86.94486 37.07341, -86.94346 37.074...</td>\n",
       "    </tr>\n",
       "    <tr>\n",
       "      <th>3</th>\n",
       "      <td>21</td>\n",
       "      <td>065</td>\n",
       "      <td>00516879</td>\n",
       "      <td>0500000US21065</td>\n",
       "      <td>21065</td>\n",
       "      <td>Estill</td>\n",
       "      <td>06</td>\n",
       "      <td>655509930</td>\n",
       "      <td>6516335</td>\n",
       "      <td>POLYGON ((-84.12662 37.64540, -84.12483 37.646...</td>\n",
       "    </tr>\n",
       "    <tr>\n",
       "      <th>4</th>\n",
       "      <td>21</td>\n",
       "      <td>069</td>\n",
       "      <td>00516881</td>\n",
       "      <td>0500000US21069</td>\n",
       "      <td>21069</td>\n",
       "      <td>Fleming</td>\n",
       "      <td>06</td>\n",
       "      <td>902727151</td>\n",
       "      <td>7182793</td>\n",
       "      <td>POLYGON ((-83.98428 38.44549, -83.98246 38.450...</td>\n",
       "    </tr>\n",
       "  </tbody>\n",
       "</table>\n",
       "</div>"
      ],
      "text/plain": [
       "  STATEFP COUNTYFP  COUNTYNS        AFFGEOID  GEOID     NAME LSAD       ALAND  \\\n",
       "0      21      007  00516850  0500000US21007  21007  Ballard   06   639387454   \n",
       "1      21      017  00516855  0500000US21017  21017  Bourbon   06   750439351   \n",
       "2      21      031  00516862  0500000US21031  21031   Butler   06  1103571974   \n",
       "3      21      065  00516879  0500000US21065  21065   Estill   06   655509930   \n",
       "4      21      069  00516881  0500000US21069  21069  Fleming   06   902727151   \n",
       "\n",
       "     AWATER                                           geometry  \n",
       "0  69473325  POLYGON ((-89.18137 37.04630, -89.17938 37.053...  \n",
       "1   4829777  POLYGON ((-84.44266 38.28324, -84.44114 38.283...  \n",
       "2  13943044  POLYGON ((-86.94486 37.07341, -86.94346 37.074...  \n",
       "3   6516335  POLYGON ((-84.12662 37.64540, -84.12483 37.646...  \n",
       "4   7182793  POLYGON ((-83.98428 38.44549, -83.98246 38.450...  "
      ]
     },
     "execution_count": 8,
     "metadata": {},
     "output_type": "execute_result"
    }
   ],
   "source": [
    "# Read in the corresponding spatial data\n",
    "counties_usa = gpd.read_file('data/shapefiles/census_counties.shp')\n",
    "counties_usa.head()"
   ]
  },
  {
   "cell_type": "markdown",
   "id": "9e2716d7-531d-4227-a06d-f1c9a770066a",
   "metadata": {},
   "source": [
    "We're only working with DC, Maryland, and Virginia here, so we'll subset to States with FIPS 11, 24, and 51."
   ]
  },
  {
   "cell_type": "code",
   "execution_count": 12,
   "id": "f1b678dd-17f5-491f-8421-374cbeafd30a",
   "metadata": {},
   "outputs": [],
   "source": [
    "# Subset the shapefiles to DC, Maryland, and Virginia\n",
    "counties_usa = counties_usa.loc[counties_usa[\"STATEFP\"].isin([\"11\", \"24\", \"51\"])]"
   ]
  },
  {
   "cell_type": "markdown",
   "id": "27a669ec-aafb-4d6a-91ed-1b01ba04447b",
   "metadata": {},
   "source": [
    "Now, we'll subset the columns to only GEOID and geometry."
   ]
  },
  {
   "cell_type": "code",
   "execution_count": 13,
   "id": "2bf8ead6-3d8f-4434-b8c4-7f9cd46bc4d6",
   "metadata": {},
   "outputs": [],
   "source": [
    "# Subset to GEOID and geometry\n",
    "counties_usa = counties_usa[[\"GEOID\", \"geometry\"]]"
   ]
  },
  {
   "cell_type": "code",
   "execution_count": 32,
   "id": "a1b7e2c2-897a-4601-a2b0-7302d3eca25a",
   "metadata": {},
   "outputs": [],
   "source": [
    "# Convert GEOID to integers\n",
    "counties_usa[\"GEOID\"] = counties_usa[\"GEOID\"].astype(int)"
   ]
  },
  {
   "cell_type": "markdown",
   "id": "c054ced5-c972-4d93-98fe-a346bbbd41db",
   "metadata": {},
   "source": [
    "Finally, we'll merge the county shapes to the federal data."
   ]
  },
  {
   "cell_type": "code",
   "execution_count": 37,
   "id": "061c3869-f94d-41b0-ba58-8279c21239c5",
   "metadata": {},
   "outputs": [
    {
     "data": {
      "text/html": [
       "<div>\n",
       "<style scoped>\n",
       "    .dataframe tbody tr th:only-of-type {\n",
       "        vertical-align: middle;\n",
       "    }\n",
       "\n",
       "    .dataframe tbody tr th {\n",
       "        vertical-align: top;\n",
       "    }\n",
       "\n",
       "    .dataframe thead th {\n",
       "        text-align: right;\n",
       "    }\n",
       "</style>\n",
       "<table border=\"1\" class=\"dataframe\">\n",
       "  <thead>\n",
       "    <tr style=\"text-align: right;\">\n",
       "      <th></th>\n",
       "      <th>GEOID</th>\n",
       "      <th>year</th>\n",
       "      <th>inequality_index</th>\n",
       "      <th>geometry</th>\n",
       "    </tr>\n",
       "  </thead>\n",
       "  <tbody>\n",
       "    <tr>\n",
       "      <th>0</th>\n",
       "      <td>11001</td>\n",
       "      <td>2010</td>\n",
       "      <td>0.5350</td>\n",
       "      <td>POLYGON ((-77.11976 38.93434, -77.11253 38.940...</td>\n",
       "    </tr>\n",
       "    <tr>\n",
       "      <th>1</th>\n",
       "      <td>11001</td>\n",
       "      <td>2011</td>\n",
       "      <td>0.5326</td>\n",
       "      <td>POLYGON ((-77.11976 38.93434, -77.11253 38.940...</td>\n",
       "    </tr>\n",
       "    <tr>\n",
       "      <th>2</th>\n",
       "      <td>11001</td>\n",
       "      <td>2012</td>\n",
       "      <td>0.5315</td>\n",
       "      <td>POLYGON ((-77.11976 38.93434, -77.11253 38.940...</td>\n",
       "    </tr>\n",
       "    <tr>\n",
       "      <th>3</th>\n",
       "      <td>11001</td>\n",
       "      <td>2013</td>\n",
       "      <td>0.5303</td>\n",
       "      <td>POLYGON ((-77.11976 38.93434, -77.11253 38.940...</td>\n",
       "    </tr>\n",
       "    <tr>\n",
       "      <th>4</th>\n",
       "      <td>11001</td>\n",
       "      <td>2014</td>\n",
       "      <td>0.5295</td>\n",
       "      <td>POLYGON ((-77.11976 38.93434, -77.11253 38.940...</td>\n",
       "    </tr>\n",
       "  </tbody>\n",
       "</table>\n",
       "</div>"
      ],
      "text/plain": [
       "   GEOID  year  inequality_index  \\\n",
       "0  11001  2010            0.5350   \n",
       "1  11001  2011            0.5326   \n",
       "2  11001  2012            0.5315   \n",
       "3  11001  2013            0.5303   \n",
       "4  11001  2014            0.5295   \n",
       "\n",
       "                                            geometry  \n",
       "0  POLYGON ((-77.11976 38.93434, -77.11253 38.940...  \n",
       "1  POLYGON ((-77.11976 38.93434, -77.11253 38.940...  \n",
       "2  POLYGON ((-77.11976 38.93434, -77.11253 38.940...  \n",
       "3  POLYGON ((-77.11976 38.93434, -77.11253 38.940...  \n",
       "4  POLYGON ((-77.11976 38.93434, -77.11253 38.940...  "
      ]
     },
     "execution_count": 37,
     "metadata": {},
     "output_type": "execute_result"
    }
   ],
   "source": [
    "# Merge in shapefiles\n",
    "df = df.merge(counties_usa)\n",
    "df.head()"
   ]
  },
  {
   "cell_type": "markdown",
   "id": "476b36c2-bb64-4d18-ae41-a5ac8577c061",
   "metadata": {
    "tags": []
   },
   "source": [
    "# 2. Basic Visualization\n",
    "\n",
    "Goal: Create and fine-tune a simple Bokeh visualization."
   ]
  },
  {
   "cell_type": "markdown",
   "id": "aadd6061-268a-4be1-9024-03ffa8c9f378",
   "metadata": {},
   "source": [
    "## A. Points"
   ]
  },
  {
   "cell_type": "code",
   "execution_count": null,
   "id": "09aa5ba0-0bd2-4d39-8bf4-6c967b81b5b5",
   "metadata": {},
   "outputs": [],
   "source": []
  },
  {
   "cell_type": "markdown",
   "id": "51c5856e-eedf-44f6-860a-9ec5fee67c2b",
   "metadata": {},
   "source": [
    "## B. Shapes"
   ]
  },
  {
   "cell_type": "code",
   "execution_count": null,
   "id": "387fb703-b78d-4acf-99e7-487e0bfff107",
   "metadata": {},
   "outputs": [],
   "source": [
    "# Create figure object.\n",
    "p = figure(title = '', \n",
    "#            plot_height = 600 ,\n",
    "#            plot_width = 950, \n",
    "#            toolbar_location = 'below',\n",
    "           tools = \"pan, wheel_zoom, box_zoom, reset, save\")\n",
    "\n",
    "p.xgrid.grid_line_color = None\n",
    "p.ygrid.grid_line_color = None\n",
    "\n",
    "# Add patch renderer to figure.\n",
    "states = p.patches('xs','ys', source = df_geo,\n",
    "#                    fill_color = None,\n",
    "#                    line_color = ‘gray’, \n",
    "#                    line_width = 0.25, \n",
    "#                    fill_alpha = 1\n",
    "                  )"
   ]
  },
  {
   "cell_type": "markdown",
   "id": "74f9ff85-dec9-426c-b677-ae3f4b24849b",
   "metadata": {},
   "source": [
    "# 3. Additional Tools\n",
    "\n",
    "Goal: Explore other interactive tools in Bokah."
   ]
  },
  {
   "cell_type": "markdown",
   "id": "af336790-01ab-47a6-ae9a-5567edce65c2",
   "metadata": {},
   "source": [
    "## A. Select"
   ]
  },
  {
   "cell_type": "code",
   "execution_count": null,
   "id": "f885de98-c2a7-4d9c-aad5-85878d6e3700",
   "metadata": {},
   "outputs": [],
   "source": []
  },
  {
   "cell_type": "markdown",
   "id": "e08b42f6-96fb-44b3-a66d-96bead73ada1",
   "metadata": {},
   "source": [
    "## B. Hover"
   ]
  },
  {
   "cell_type": "code",
   "execution_count": null,
   "id": "f9f2b07b-835b-4e29-9a32-dd901ecd5caf",
   "metadata": {},
   "outputs": [],
   "source": []
  },
  {
   "cell_type": "markdown",
   "id": "f9f7ccf8-500a-4f87-8e10-d26333f6a117",
   "metadata": {},
   "source": [
    "## C. Range"
   ]
  },
  {
   "cell_type": "code",
   "execution_count": null,
   "id": "670b0aeb-b2ec-4a87-b9f4-12759a903eed",
   "metadata": {},
   "outputs": [],
   "source": []
  },
  {
   "cell_type": "markdown",
   "id": "5d92e9c3-8c3c-489a-b141-503469483c2b",
   "metadata": {},
   "source": [
    "## D. Draw"
   ]
  },
  {
   "cell_type": "code",
   "execution_count": null,
   "id": "205866b2-0c39-4000-a026-b449dd9b4f64",
   "metadata": {},
   "outputs": [],
   "source": []
  },
  {
   "cell_type": "markdown",
   "id": "d16223ce-24c2-4502-8896-504d02eed47b",
   "metadata": {},
   "source": [
    "# 4. Saving & Sharing\n",
    "\n",
    "Goal: Storing and presenting interactive visualizations."
   ]
  },
  {
   "cell_type": "markdown",
   "id": "e54d28dd-7952-4891-800a-f9b3a9678467",
   "metadata": {},
   "source": [
    "## A. Plots"
   ]
  },
  {
   "cell_type": "code",
   "execution_count": null,
   "id": "982dbd7f-e1e5-455a-9f73-0eef4c62c4b9",
   "metadata": {},
   "outputs": [],
   "source": []
  },
  {
   "cell_type": "markdown",
   "id": "5372480f-3825-43c4-9904-2f2cfb1e3d8e",
   "metadata": {},
   "source": [
    "## B. Documents"
   ]
  },
  {
   "cell_type": "code",
   "execution_count": null,
   "id": "8f78baa2-c043-444d-9b62-7444dfb4b637",
   "metadata": {},
   "outputs": [],
   "source": []
  },
  {
   "cell_type": "markdown",
   "id": "e7711ead-95df-4fb4-a711-14f5c4d1cc53",
   "metadata": {},
   "source": [
    "## C. Bokeh Server Apps"
   ]
  },
  {
   "cell_type": "code",
   "execution_count": null,
   "id": "da9a7804-0074-4ea7-85e6-d06ca45cfffa",
   "metadata": {},
   "outputs": [],
   "source": []
  }
 ],
 "metadata": {
  "kernelspec": {
   "display_name": "Python 3 (ipykernel)",
   "language": "python",
   "name": "python3"
  },
  "language_info": {
   "codemirror_mode": {
    "name": "ipython",
    "version": 3
   },
   "file_extension": ".py",
   "mimetype": "text/x-python",
   "name": "python",
   "nbconvert_exporter": "python",
   "pygments_lexer": "ipython3",
   "version": "3.8.12"
  }
 },
 "nbformat": 4,
 "nbformat_minor": 5
}
